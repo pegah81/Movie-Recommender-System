{
 "cells": [
  {
   "cell_type": "code",
   "execution_count": null,
   "id": "f755cba9",
   "metadata": {},
   "outputs": [],
   "source": [
    "import pandas as pd\n",
    "import numpy as np\n",
    "#Encoding modules\n",
    "import ast\n",
    "import sys\n",
    "sys.path.append('../modules')\n",
    "from encoding_module import json_to_DF\n",
    "from encoding_module import onehot_json\n",
    "#Plots\n",
    "from plot_module import barPlot\n",
    "from plot_module import featureAnalysis\n",
    "#API\n",
    "import requests\n",
    "import concurrent.futures\n",
    "#NLP\n",
    "import nltk\n",
    "from nltk.tokenize import word_tokenize\n",
    "from nltk.corpus import stopwords\n",
    "#Ignore Warning\n",
    "import warnings\n",
    "warnings.filterwarnings(\"ignore\")"
   ]
  },
  {
   "cell_type": "code",
   "execution_count": null,
   "id": "3810a640",
   "metadata": {},
   "outputs": [],
   "source": [
    "movies_metadata = pd.read_csv('encoded/movies_metadata_encoded.csv')"
   ]
  }
 ],
 "metadata": {
  "kernelspec": {
   "display_name": "Python 3 (ipykernel)",
   "language": "python",
   "name": "python3"
  },
  "language_info": {
   "codemirror_mode": {
    "name": "ipython",
    "version": 3
   },
   "file_extension": ".py",
   "mimetype": "text/x-python",
   "name": "python",
   "nbconvert_exporter": "python",
   "pygments_lexer": "ipython3",
   "version": "3.9.6"
  }
 },
 "nbformat": 4,
 "nbformat_minor": 5
}
