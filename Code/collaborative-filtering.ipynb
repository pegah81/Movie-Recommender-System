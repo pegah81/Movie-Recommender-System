{
 "cells": [
  {
   "cell_type": "markdown",
   "id": "8e66c2cd",
   "metadata": {},
   "source": [
    "# Collaborative Filtering"
   ]
  },
  {
   "cell_type": "code",
   "execution_count": 10,
   "id": "9106ade4",
   "metadata": {},
   "outputs": [],
   "source": [
    "import pandas as pd\n",
    "import numpy as np\n",
    "from datetime import datetime\n",
    "from scipy.sparse import csr_matrix\n",
    "from sklearn.decomposition import NMF\n",
    "from sklearn.model_selection import train_test_split\n",
    "import random"
   ]
  },
  {
   "cell_type": "code",
   "execution_count": 2,
   "id": "0d075082",
   "metadata": {},
   "outputs": [],
   "source": [
    "ratings_raw =  pd.read_csv(\"../dataset/ratings_raw.csv\")"
   ]
  },
  {
   "cell_type": "code",
   "execution_count": 3,
   "id": "5d933c1c",
   "metadata": {},
   "outputs": [
    {
     "data": {
      "text/html": [
       "<div>\n",
       "<style scoped>\n",
       "    .dataframe tbody tr th:only-of-type {\n",
       "        vertical-align: middle;\n",
       "    }\n",
       "\n",
       "    .dataframe tbody tr th {\n",
       "        vertical-align: top;\n",
       "    }\n",
       "\n",
       "    .dataframe thead th {\n",
       "        text-align: right;\n",
       "    }\n",
       "</style>\n",
       "<table border=\"1\" class=\"dataframe\">\n",
       "  <thead>\n",
       "    <tr style=\"text-align: right;\">\n",
       "      <th></th>\n",
       "      <th>userId</th>\n",
       "      <th>movieId</th>\n",
       "      <th>rating</th>\n",
       "      <th>timestamp</th>\n",
       "    </tr>\n",
       "  </thead>\n",
       "  <tbody>\n",
       "    <tr>\n",
       "      <th>0</th>\n",
       "      <td>1</td>\n",
       "      <td>110</td>\n",
       "      <td>1.0</td>\n",
       "      <td>1425941529</td>\n",
       "    </tr>\n",
       "    <tr>\n",
       "      <th>1</th>\n",
       "      <td>1</td>\n",
       "      <td>147</td>\n",
       "      <td>4.5</td>\n",
       "      <td>1425942435</td>\n",
       "    </tr>\n",
       "    <tr>\n",
       "      <th>2</th>\n",
       "      <td>1</td>\n",
       "      <td>858</td>\n",
       "      <td>5.0</td>\n",
       "      <td>1425941523</td>\n",
       "    </tr>\n",
       "    <tr>\n",
       "      <th>3</th>\n",
       "      <td>1</td>\n",
       "      <td>1221</td>\n",
       "      <td>5.0</td>\n",
       "      <td>1425941546</td>\n",
       "    </tr>\n",
       "    <tr>\n",
       "      <th>4</th>\n",
       "      <td>1</td>\n",
       "      <td>1246</td>\n",
       "      <td>5.0</td>\n",
       "      <td>1425941556</td>\n",
       "    </tr>\n",
       "  </tbody>\n",
       "</table>\n",
       "</div>"
      ],
      "text/plain": [
       "   userId  movieId  rating   timestamp\n",
       "0       1      110     1.0  1425941529\n",
       "1       1      147     4.5  1425942435\n",
       "2       1      858     5.0  1425941523\n",
       "3       1     1221     5.0  1425941546\n",
       "4       1     1246     5.0  1425941556"
      ]
     },
     "execution_count": 3,
     "metadata": {},
     "output_type": "execute_result"
    }
   ],
   "source": [
    "ratings_raw.head()"
   ]
  },
  {
   "cell_type": "code",
   "execution_count": 4,
   "id": "29ad94c3",
   "metadata": {},
   "outputs": [
    {
     "data": {
      "text/plain": [
       "270896"
      ]
     },
     "execution_count": 4,
     "metadata": {},
     "output_type": "execute_result"
    }
   ],
   "source": [
    "ratings_raw[\"userId\"].nunique()"
   ]
  },
  {
   "cell_type": "code",
   "execution_count": 5,
   "id": "4ffa0db2",
   "metadata": {},
   "outputs": [
    {
     "data": {
      "text/plain": [
       "(26024289, 4)"
      ]
     },
     "execution_count": 5,
     "metadata": {},
     "output_type": "execute_result"
    }
   ],
   "source": [
    "ratings_raw.shape"
   ]
  },
  {
   "cell_type": "code",
   "execution_count": 6,
   "id": "7adbbaa1",
   "metadata": {},
   "outputs": [
    {
     "data": {
      "text/plain": [
       "45115"
      ]
     },
     "execution_count": 6,
     "metadata": {},
     "output_type": "execute_result"
    }
   ],
   "source": [
    "ratings_raw[\"movieId\"].nunique()"
   ]
  },
  {
   "cell_type": "code",
   "execution_count": 7,
   "id": "77eace44",
   "metadata": {},
   "outputs": [],
   "source": [
    "movies_ratings_df = pd.DataFrame({'movie_id': ratings_raw['movieId'].unique()})\n",
    "movies_ratings_df['rate_avg'] = ratings_raw.groupby('movieId')['rating'].mean().values\n",
    "movies_ratings_df['ratings_count'] = ratings_raw['movieId'].value_counts().values"
   ]
  },
  {
   "cell_type": "code",
   "execution_count": 8,
   "id": "ff8add8d",
   "metadata": {},
   "outputs": [
    {
     "data": {
      "text/html": [
       "<div>\n",
       "<style scoped>\n",
       "    .dataframe tbody tr th:only-of-type {\n",
       "        vertical-align: middle;\n",
       "    }\n",
       "\n",
       "    .dataframe tbody tr th {\n",
       "        vertical-align: top;\n",
       "    }\n",
       "\n",
       "    .dataframe thead th {\n",
       "        text-align: right;\n",
       "    }\n",
       "</style>\n",
       "<table border=\"1\" class=\"dataframe\">\n",
       "  <thead>\n",
       "    <tr style=\"text-align: right;\">\n",
       "      <th></th>\n",
       "      <th>movie_id</th>\n",
       "      <th>rate_avg</th>\n",
       "      <th>ratings_count</th>\n",
       "    </tr>\n",
       "  </thead>\n",
       "  <tbody>\n",
       "    <tr>\n",
       "      <th>0</th>\n",
       "      <td>110</td>\n",
       "      <td>3.888157</td>\n",
       "      <td>91921</td>\n",
       "    </tr>\n",
       "    <tr>\n",
       "      <th>1</th>\n",
       "      <td>147</td>\n",
       "      <td>3.236953</td>\n",
       "      <td>91082</td>\n",
       "    </tr>\n",
       "    <tr>\n",
       "      <th>2</th>\n",
       "      <td>858</td>\n",
       "      <td>3.175550</td>\n",
       "      <td>87901</td>\n",
       "    </tr>\n",
       "    <tr>\n",
       "      <th>3</th>\n",
       "      <td>1221</td>\n",
       "      <td>2.875713</td>\n",
       "      <td>84078</td>\n",
       "    </tr>\n",
       "    <tr>\n",
       "      <th>4</th>\n",
       "      <td>1246</td>\n",
       "      <td>3.079565</td>\n",
       "      <td>77960</td>\n",
       "    </tr>\n",
       "    <tr>\n",
       "      <th>...</th>\n",
       "      <td>...</td>\n",
       "      <td>...</td>\n",
       "      <td>...</td>\n",
       "    </tr>\n",
       "    <tr>\n",
       "      <th>45110</th>\n",
       "      <td>159050</td>\n",
       "      <td>4.000000</td>\n",
       "      <td>1</td>\n",
       "    </tr>\n",
       "    <tr>\n",
       "      <th>45111</th>\n",
       "      <td>159053</td>\n",
       "      <td>3.500000</td>\n",
       "      <td>1</td>\n",
       "    </tr>\n",
       "    <tr>\n",
       "      <th>45112</th>\n",
       "      <td>165649</td>\n",
       "      <td>5.000000</td>\n",
       "      <td>1</td>\n",
       "    </tr>\n",
       "    <tr>\n",
       "      <th>45113</th>\n",
       "      <td>171051</td>\n",
       "      <td>1.000000</td>\n",
       "      <td>1</td>\n",
       "    </tr>\n",
       "    <tr>\n",
       "      <th>45114</th>\n",
       "      <td>171221</td>\n",
       "      <td>3.000000</td>\n",
       "      <td>1</td>\n",
       "    </tr>\n",
       "  </tbody>\n",
       "</table>\n",
       "<p>45115 rows × 3 columns</p>\n",
       "</div>"
      ],
      "text/plain": [
       "       movie_id  rate_avg  ratings_count\n",
       "0           110  3.888157          91921\n",
       "1           147  3.236953          91082\n",
       "2           858  3.175550          87901\n",
       "3          1221  2.875713          84078\n",
       "4          1246  3.079565          77960\n",
       "...         ...       ...            ...\n",
       "45110    159050  4.000000              1\n",
       "45111    159053  3.500000              1\n",
       "45112    165649  5.000000              1\n",
       "45113    171051  1.000000              1\n",
       "45114    171221  3.000000              1\n",
       "\n",
       "[45115 rows x 3 columns]"
      ]
     },
     "execution_count": 8,
     "metadata": {},
     "output_type": "execute_result"
    }
   ],
   "source": [
    "movies_ratings_df"
   ]
  },
  {
   "cell_type": "code",
   "execution_count": 9,
   "id": "20406a52",
   "metadata": {},
   "outputs": [],
   "source": [
    "dt_object = datetime.fromtimestamp(ratings_raw[\"timestamp\"][20000000])"
   ]
  },
  {
   "cell_type": "code",
   "execution_count": 14,
   "id": "fe9b5fda",
   "metadata": {},
   "outputs": [
    {
     "name": "stdout",
     "output_type": "stream",
     "text": [
      "  (0, 108)\t1.0\n",
      "  (0, 145)\t4.5\n",
      "  (0, 843)\t5.0\n",
      "  (0, 1195)\t5.0\n",
      "  (0, 1218)\t5.0\n",
      "  (0, 1885)\t4.0\n",
      "  (0, 2677)\t4.5\n",
      "  (0, 2833)\t5.0\n",
      "  (0, 2874)\t4.0\n",
      "  (0, 4133)\t4.0\n",
      "  (0, 4783)\t5.0\n",
      "  (0, 5481)\t5.0\n",
      "  (0, 10177)\t4.0\n",
      "  (0, 12047)\t3.5\n",
      "  (0, 12545)\t4.0\n",
      "  (0, 12652)\t5.0\n",
      "  (0, 13711)\t5.0\n",
      "  (0, 13963)\t5.0\n",
      "  (0, 14631)\t5.0\n",
      "  (0, 16227)\t5.0\n",
      "  (0, 18359)\t2.5\n",
      "  (0, 18373)\t5.0\n",
      "  (0, 18622)\t5.0\n",
      "  (0, 19603)\t5.0\n",
      "  (0, 20118)\t0.5\n",
      "  :\t:\n",
      "  (270895, 11132)\t4.5\n",
      "  (270895, 11365)\t4.0\n",
      "  (270895, 11367)\t5.0\n",
      "  (270895, 11375)\t4.5\n",
      "  (270895, 11413)\t5.0\n",
      "  (270895, 11414)\t5.0\n",
      "  (270895, 11464)\t4.0\n",
      "  (270895, 11497)\t4.0\n",
      "  (270895, 11627)\t5.0\n",
      "  (270895, 11638)\t2.5\n",
      "  (270895, 11677)\t4.5\n",
      "  (270895, 11722)\t4.5\n",
      "  (270895, 11872)\t3.5\n",
      "  (270895, 11987)\t3.0\n",
      "  (270895, 11989)\t4.0\n",
      "  (270895, 12027)\t4.5\n",
      "  (270895, 12047)\t4.0\n",
      "  (270895, 12233)\t5.0\n",
      "  (270895, 12280)\t3.5\n",
      "  (270895, 12293)\t4.5\n",
      "  (270895, 12545)\t5.0\n",
      "  (270895, 12768)\t5.0\n",
      "  (270895, 13126)\t4.5\n",
      "  (270895, 13285)\t4.5\n",
      "  (270895, 14380)\t2.0\n"
     ]
    }
   ],
   "source": [
    "user_ids = ratings_raw['userId'].unique()\n",
    "movie_ids = ratings_raw['movieId'].unique()\n",
    "movie_ids = np.sort(movie_ids)\n",
    "\n",
    "num_users = len(user_ids)\n",
    "num_movies = len(movie_ids)\n",
    "\n",
    "user_idx_dict = {user_id: idx for idx, user_id in enumerate(user_ids)}\n",
    "movie_idx_dict = {movie_id: idx for idx, movie_id in enumerate(movie_ids)}\n",
    "\n",
    "data = ratings_raw['rating']\n",
    "row = ratings_raw['userId'].map(user_idx_dict)\n",
    "col = ratings_raw['movieId'].map(movie_idx_dict)\n",
    "\n",
    "user_movie_matrix = csr_matrix((data, (row, col)), shape=(num_users, num_movies))\n",
    "\n",
    "print(user_movie_matrix)"
   ]
  },
  {
   "cell_type": "code",
   "execution_count": 18,
   "id": "d3c9cac3",
   "metadata": {},
   "outputs": [],
   "source": [
    "# user_movie_train, user_movie_test = train_test_split(user_movie_matrix, test_size=0.2, random_state=42)"
   ]
  },
  {
   "cell_type": "code",
   "execution_count": 78,
   "id": "cde37ed3",
   "metadata": {},
   "outputs": [],
   "source": [
    "# user_movie_train.shape"
   ]
  },
  {
   "cell_type": "code",
   "execution_count": 79,
   "id": "a11b24c2",
   "metadata": {},
   "outputs": [],
   "source": [
    "# user_movie_test.shape"
   ]
  },
  {
   "cell_type": "code",
   "execution_count": 80,
   "id": "8a09b8c3",
   "metadata": {},
   "outputs": [],
   "source": [
    "# user_movie_test[0].toarray()"
   ]
  },
  {
   "cell_type": "markdown",
   "id": "707eaa40",
   "metadata": {},
   "source": [
    "Get random users for testing"
   ]
  },
  {
   "cell_type": "code",
   "execution_count": 81,
   "id": "c0f22de3",
   "metadata": {},
   "outputs": [],
   "source": [
    "# random_test_user_ids = []\n",
    "# for _ in range(54180):\n",
    "#     random_user = random.randint(1, 270896)\n",
    "#     random_test_user_ids.append(random_user)\n",
    "# random_test_user_ids = np.sort(random_test_user_ids)"
   ]
  },
  {
   "cell_type": "code",
   "execution_count": 82,
   "id": "08978601",
   "metadata": {},
   "outputs": [],
   "source": [
    "# mask = np.ones(user_movie_matrix.shape[0], dtype=bool)\n",
    "# mask[random_test_user_ids] = False\n",
    "# train_user_movie_matrix = user_movie_matrix[mask, :]"
   ]
  },
  {
   "cell_type": "code",
   "execution_count": 83,
   "id": "37ed10ed",
   "metadata": {},
   "outputs": [],
   "source": [
    "# train_user_movie_matrix.shape"
   ]
  },
  {
   "cell_type": "code",
   "execution_count": 279,
   "id": "37c3adce",
   "metadata": {},
   "outputs": [],
   "source": [
    "class RecommenderSystem:\n",
    "    def __init__(self, user_movie_matrix):\n",
    "        self.user_movie_matrix = user_movie_matrix\n",
    "#         self.collaborative_filtering()\n",
    "\n",
    "    def collaborative_filtering(self, num_latent_factors=10):\n",
    "        num_latent_factors = num_latent_factors  \n",
    "        model = NMF(n_components=num_latent_factors, init='random', random_state=0)\n",
    "        self.user_factors = model.fit_transform(self.user_movie_matrix)\n",
    "        self.movie_factors = model.components_\n",
    "        \n",
    "    def get_collab_recom(self, user_id):\n",
    "        user_idx = user_idx_dict[user_id]\n",
    "        recommendations = np.dot(self.user_factors[user_idx, :], self.movie_factors)\n",
    "\n",
    "        sorted_indices = np.argsort(recommendations)[::-1]\n",
    "        sorted_movie_ids = [movie_ids[idx] for idx in sorted_indices]\n",
    "        return sorted_movie_ids\n",
    "    \n",
    "    def ndcg(self):\n",
    "        sum = 0\n",
    "        total_count = 0\n",
    "        users_count = self.user_movie_matrix.shape[0]\n",
    "        for user_id in range(0,users_count,5000):\n",
    "            total_count += 1\n",
    "            recommended_movies_id = self.get_collab_recom(user_id+1)\n",
    "            ground_truth = ratings_raw[ratings_raw[\"userId\"] == user_id]\n",
    "            rated_movies_id = [x for x in recommended_movies_id if x in ground_truth[\"movieId\"].values]\n",
    "            rated_movies_rate = []\n",
    "            for id in rated_movies_id:\n",
    "                rated_movies_rate.append(self.user_movie_matrix[user_idx_dict[target_user_id],movie_idx_dict[id]].item())\n",
    "            \n",
    "            prod_relevance_dict = dict(zip(rated_movies_id, rated_movies_rate))\n",
    "            ideal_prod_relevance_dict = {k: v for k, v in sorted(prod_relevance_dict.items(),key=lambda item: item[1], reverse=True)}\n",
    "            true_relevance = np.fromiter(ideal_prod_relevance_dict.values(), dtype=int).reshape(1,-1)\n",
    "            relevance_score = np.fromiter(prod_relevance_dict.values(), dtype=int).reshape(1,-1)\n",
    "            print(true_relevance, relevance_score)\n",
    "            dcg = dcg_score(true_relevance, relevance_score)\n",
    "            idcg = dcg_score(true_relevance, true_relevance)\n",
    "            sum += dcg/idcg\n",
    "            print('nDCG score: ', dcg/idcg)\n",
    "        return round(sum/total_count,4)"
   ]
  },
  {
   "cell_type": "code",
   "execution_count": 277,
   "id": "22537947",
   "metadata": {},
   "outputs": [],
   "source": [
    "rs = RecommenderSystem(user_movie_matrix)"
   ]
  },
  {
   "cell_type": "code",
   "execution_count": 280,
   "id": "903f2ab4",
   "metadata": {
    "scrolled": false
   },
   "outputs": [
    {
     "ename": "ValueError",
     "evalue": "Found array with 0 feature(s) (shape=(1, 0)) while a minimum of 1 is required.",
     "output_type": "error",
     "traceback": [
      "\u001b[1;31m---------------------------------------------------------------------------\u001b[0m",
      "\u001b[1;31mValueError\u001b[0m                                Traceback (most recent call last)",
      "Cell \u001b[1;32mIn [280], line 1\u001b[0m\n\u001b[1;32m----> 1\u001b[0m ndcg_score \u001b[38;5;241m=\u001b[39m \u001b[43mrs\u001b[49m\u001b[38;5;241;43m.\u001b[39;49m\u001b[43mndcg\u001b[49m\u001b[43m(\u001b[49m\u001b[43m)\u001b[49m\n\u001b[0;32m      2\u001b[0m \u001b[38;5;28mprint\u001b[39m(\u001b[38;5;124m\"\u001b[39m\u001b[38;5;124mnDCG score is:\u001b[39m\u001b[38;5;124m\"\u001b[39m, ndcg_score)\n",
      "Cell \u001b[1;32mIn [276], line 37\u001b[0m, in \u001b[0;36mRecommenderSystem.ndcg\u001b[1;34m(self)\u001b[0m\n\u001b[0;32m     35\u001b[0m true_relevance \u001b[38;5;241m=\u001b[39m np\u001b[38;5;241m.\u001b[39mfromiter(ideal_prod_relevance_dict\u001b[38;5;241m.\u001b[39mvalues(), dtype\u001b[38;5;241m=\u001b[39m\u001b[38;5;28mint\u001b[39m)\u001b[38;5;241m.\u001b[39mreshape(\u001b[38;5;241m1\u001b[39m,\u001b[38;5;241m-\u001b[39m\u001b[38;5;241m1\u001b[39m)\n\u001b[0;32m     36\u001b[0m relevance_score \u001b[38;5;241m=\u001b[39m np\u001b[38;5;241m.\u001b[39mfromiter(prod_relevance_dict\u001b[38;5;241m.\u001b[39mvalues(), dtype\u001b[38;5;241m=\u001b[39m\u001b[38;5;28mint\u001b[39m)\u001b[38;5;241m.\u001b[39mreshape(\u001b[38;5;241m1\u001b[39m,\u001b[38;5;241m-\u001b[39m\u001b[38;5;241m1\u001b[39m)\n\u001b[1;32m---> 37\u001b[0m dcg \u001b[38;5;241m=\u001b[39m \u001b[43mdcg_score\u001b[49m\u001b[43m(\u001b[49m\u001b[43mtrue_relevance\u001b[49m\u001b[43m,\u001b[49m\u001b[43m \u001b[49m\u001b[43mrelevance_score\u001b[49m\u001b[43m)\u001b[49m\n\u001b[0;32m     38\u001b[0m idcg \u001b[38;5;241m=\u001b[39m dcg_score(true_relevance, true_relevance)\n\u001b[0;32m     39\u001b[0m \u001b[38;5;28msum\u001b[39m \u001b[38;5;241m+\u001b[39m\u001b[38;5;241m=\u001b[39m dcg\u001b[38;5;241m/\u001b[39midcg\n",
      "File \u001b[1;32mc:\\python39\\lib\\site-packages\\sklearn\\metrics\\_ranking.py:1480\u001b[0m, in \u001b[0;36mdcg_score\u001b[1;34m(y_true, y_score, k, log_base, sample_weight, ignore_ties)\u001b[0m\n\u001b[0;32m   1384\u001b[0m \u001b[38;5;28;01mdef\u001b[39;00m \u001b[38;5;21mdcg_score\u001b[39m(\n\u001b[0;32m   1385\u001b[0m     y_true, y_score, \u001b[38;5;241m*\u001b[39m, k\u001b[38;5;241m=\u001b[39m\u001b[38;5;28;01mNone\u001b[39;00m, log_base\u001b[38;5;241m=\u001b[39m\u001b[38;5;241m2\u001b[39m, sample_weight\u001b[38;5;241m=\u001b[39m\u001b[38;5;28;01mNone\u001b[39;00m, ignore_ties\u001b[38;5;241m=\u001b[39m\u001b[38;5;28;01mFalse\u001b[39;00m\n\u001b[0;32m   1386\u001b[0m ):\n\u001b[0;32m   1387\u001b[0m     \u001b[38;5;124;03m\"\"\"Compute Discounted Cumulative Gain.\u001b[39;00m\n\u001b[0;32m   1388\u001b[0m \n\u001b[0;32m   1389\u001b[0m \u001b[38;5;124;03m    Sum the true scores ranked in the order induced by the predicted scores,\u001b[39;00m\n\u001b[1;32m   (...)\u001b[0m\n\u001b[0;32m   1478\u001b[0m \n\u001b[0;32m   1479\u001b[0m \u001b[38;5;124;03m    \"\"\"\u001b[39;00m\n\u001b[1;32m-> 1480\u001b[0m     y_true \u001b[38;5;241m=\u001b[39m \u001b[43mcheck_array\u001b[49m\u001b[43m(\u001b[49m\u001b[43my_true\u001b[49m\u001b[43m,\u001b[49m\u001b[43m \u001b[49m\u001b[43mensure_2d\u001b[49m\u001b[38;5;241;43m=\u001b[39;49m\u001b[38;5;28;43;01mFalse\u001b[39;49;00m\u001b[43m)\u001b[49m\n\u001b[0;32m   1481\u001b[0m     y_score \u001b[38;5;241m=\u001b[39m check_array(y_score, ensure_2d\u001b[38;5;241m=\u001b[39m\u001b[38;5;28;01mFalse\u001b[39;00m)\n\u001b[0;32m   1482\u001b[0m     check_consistent_length(y_true, y_score, sample_weight)\n",
      "File \u001b[1;32mc:\\python39\\lib\\site-packages\\sklearn\\utils\\validation.py:918\u001b[0m, in \u001b[0;36mcheck_array\u001b[1;34m(array, accept_sparse, accept_large_sparse, dtype, order, copy, force_all_finite, ensure_2d, allow_nd, ensure_min_samples, ensure_min_features, estimator, input_name)\u001b[0m\n\u001b[0;32m    916\u001b[0m     n_features \u001b[38;5;241m=\u001b[39m array\u001b[38;5;241m.\u001b[39mshape[\u001b[38;5;241m1\u001b[39m]\n\u001b[0;32m    917\u001b[0m     \u001b[38;5;28;01mif\u001b[39;00m n_features \u001b[38;5;241m<\u001b[39m ensure_min_features:\n\u001b[1;32m--> 918\u001b[0m         \u001b[38;5;28;01mraise\u001b[39;00m \u001b[38;5;167;01mValueError\u001b[39;00m(\n\u001b[0;32m    919\u001b[0m             \u001b[38;5;124m\"\u001b[39m\u001b[38;5;124mFound array with \u001b[39m\u001b[38;5;132;01m%d\u001b[39;00m\u001b[38;5;124m feature(s) (shape=\u001b[39m\u001b[38;5;132;01m%s\u001b[39;00m\u001b[38;5;124m) while\u001b[39m\u001b[38;5;124m\"\u001b[39m\n\u001b[0;32m    920\u001b[0m             \u001b[38;5;124m\"\u001b[39m\u001b[38;5;124m a minimum of \u001b[39m\u001b[38;5;132;01m%d\u001b[39;00m\u001b[38;5;124m is required\u001b[39m\u001b[38;5;132;01m%s\u001b[39;00m\u001b[38;5;124m.\u001b[39m\u001b[38;5;124m\"\u001b[39m\n\u001b[0;32m    921\u001b[0m             \u001b[38;5;241m%\u001b[39m (n_features, array\u001b[38;5;241m.\u001b[39mshape, ensure_min_features, context)\n\u001b[0;32m    922\u001b[0m         )\n\u001b[0;32m    924\u001b[0m \u001b[38;5;28;01mif\u001b[39;00m copy \u001b[38;5;129;01mand\u001b[39;00m np\u001b[38;5;241m.\u001b[39mmay_share_memory(array, array_orig):\n\u001b[0;32m    925\u001b[0m     array \u001b[38;5;241m=\u001b[39m np\u001b[38;5;241m.\u001b[39marray(array, dtype\u001b[38;5;241m=\u001b[39mdtype, order\u001b[38;5;241m=\u001b[39morder)\n",
      "\u001b[1;31mValueError\u001b[0m: Found array with 0 feature(s) (shape=(1, 0)) while a minimum of 1 is required."
     ]
    }
   ],
   "source": [
    "ndcg_score = rs.ndcg()\n",
    "print(\"nDCG score is:\", ndcg_score)"
   ]
  },
  {
   "cell_type": "code",
   "execution_count": 281,
   "id": "c250eccf",
   "metadata": {},
   "outputs": [],
   "source": [
    "def ndcg():\n",
    "        sum = 0\n",
    "        total_count = 0\n",
    "        users_count = user_movie_matrix.shape[0]\n",
    "        for user_id in range(0,users_count,10000):\n",
    "            total_count += 1\n",
    "            recommended_movies_id = rs.get_collab_recom(user_id+1)\n",
    "            ground_truth = ratings_raw[ratings_raw[\"userId\"] == target_user_id]\n",
    "            rated_movies_id = [x for x in recommended_movies_id if x in ground_truth[\"movieId\"].values]\n",
    "            rated_movies_rate = []\n",
    "            for id in rated_movies_id:\n",
    "                rated_movies_rate.append(user_movie_matrix[user_idx_dict[target_user_id],movie_idx_dict[id]].item())\n",
    "            \n",
    "            prod_relevance_dict = dict(zip(rated_movies_id, rated_movies_rate))\n",
    "            ideal_prod_relevance_dict = {k: v for k, v in sorted(prod_relevance_dict.items(),key=lambda item: item[1], reverse=True)}\n",
    "            true_relevance = np.fromiter(ideal_prod_relevance_dict.values(), dtype=int).reshape(1,-1)\n",
    "            relevance_score = np.fromiter(prod_relevance_dict.values(), dtype=int).reshape(1,-1)\n",
    "            dcg = dcg_score(true_relevance, relevance_score)\n",
    "            idcg = dcg_score(true_relevance, true_relevance)\n",
    "            sum += dcg/idcg\n",
    "#             print('nDCG score: ', dcg/idcg)\n",
    "        return round(sum/total_count,4)"
   ]
  },
  {
   "cell_type": "code",
   "execution_count": 282,
   "id": "d03150b6",
   "metadata": {},
   "outputs": [
    {
     "data": {
      "text/plain": [
       "0.9304"
      ]
     },
     "execution_count": 282,
     "metadata": {},
     "output_type": "execute_result"
    }
   ],
   "source": [
    "ndcg()"
   ]
  },
  {
   "cell_type": "code",
   "execution_count": 285,
   "id": "c4940b64",
   "metadata": {},
   "outputs": [
    {
     "name": "stdout",
     "output_type": "stream",
     "text": [
      "Collaborative Filtering Recommendations for User 1\n",
      "318\n",
      "2959\n",
      "296\n",
      "2571\n",
      "79132\n"
     ]
    }
   ],
   "source": [
    "target_user_id = 1\n",
    "recoms = rs.get_collab_recom(target_user_id)\n",
    "recom_np = np.array(recoms)\n",
    "print(\"Collaborative Filtering Recommendations for User\", target_user_id)\n",
    "for i in range(5):\n",
    "    print(recoms[i])"
   ]
  },
  {
   "cell_type": "code",
   "execution_count": 283,
   "id": "50ddcd6f",
   "metadata": {},
   "outputs": [
    {
     "data": {
      "text/html": [
       "<div>\n",
       "<style scoped>\n",
       "    .dataframe tbody tr th:only-of-type {\n",
       "        vertical-align: middle;\n",
       "    }\n",
       "\n",
       "    .dataframe tbody tr th {\n",
       "        vertical-align: top;\n",
       "    }\n",
       "\n",
       "    .dataframe thead th {\n",
       "        text-align: right;\n",
       "    }\n",
       "</style>\n",
       "<table border=\"1\" class=\"dataframe\">\n",
       "  <thead>\n",
       "    <tr style=\"text-align: right;\">\n",
       "      <th></th>\n",
       "      <th>userId</th>\n",
       "      <th>movieId</th>\n",
       "      <th>rating</th>\n",
       "      <th>timestamp</th>\n",
       "    </tr>\n",
       "  </thead>\n",
       "  <tbody>\n",
       "    <tr>\n",
       "      <th>0</th>\n",
       "      <td>1</td>\n",
       "      <td>110</td>\n",
       "      <td>1.0</td>\n",
       "      <td>1425941529</td>\n",
       "    </tr>\n",
       "    <tr>\n",
       "      <th>1</th>\n",
       "      <td>1</td>\n",
       "      <td>147</td>\n",
       "      <td>4.5</td>\n",
       "      <td>1425942435</td>\n",
       "    </tr>\n",
       "    <tr>\n",
       "      <th>2</th>\n",
       "      <td>1</td>\n",
       "      <td>858</td>\n",
       "      <td>5.0</td>\n",
       "      <td>1425941523</td>\n",
       "    </tr>\n",
       "    <tr>\n",
       "      <th>3</th>\n",
       "      <td>1</td>\n",
       "      <td>1221</td>\n",
       "      <td>5.0</td>\n",
       "      <td>1425941546</td>\n",
       "    </tr>\n",
       "    <tr>\n",
       "      <th>4</th>\n",
       "      <td>1</td>\n",
       "      <td>1246</td>\n",
       "      <td>5.0</td>\n",
       "      <td>1425941556</td>\n",
       "    </tr>\n",
       "    <tr>\n",
       "      <th>5</th>\n",
       "      <td>1</td>\n",
       "      <td>1968</td>\n",
       "      <td>4.0</td>\n",
       "      <td>1425942148</td>\n",
       "    </tr>\n",
       "    <tr>\n",
       "      <th>6</th>\n",
       "      <td>1</td>\n",
       "      <td>2762</td>\n",
       "      <td>4.5</td>\n",
       "      <td>1425941300</td>\n",
       "    </tr>\n",
       "    <tr>\n",
       "      <th>7</th>\n",
       "      <td>1</td>\n",
       "      <td>2918</td>\n",
       "      <td>5.0</td>\n",
       "      <td>1425941593</td>\n",
       "    </tr>\n",
       "    <tr>\n",
       "      <th>8</th>\n",
       "      <td>1</td>\n",
       "      <td>2959</td>\n",
       "      <td>4.0</td>\n",
       "      <td>1425941601</td>\n",
       "    </tr>\n",
       "    <tr>\n",
       "      <th>9</th>\n",
       "      <td>1</td>\n",
       "      <td>4226</td>\n",
       "      <td>4.0</td>\n",
       "      <td>1425942228</td>\n",
       "    </tr>\n",
       "    <tr>\n",
       "      <th>10</th>\n",
       "      <td>1</td>\n",
       "      <td>4878</td>\n",
       "      <td>5.0</td>\n",
       "      <td>1425941434</td>\n",
       "    </tr>\n",
       "    <tr>\n",
       "      <th>11</th>\n",
       "      <td>1</td>\n",
       "      <td>5577</td>\n",
       "      <td>5.0</td>\n",
       "      <td>1425941397</td>\n",
       "    </tr>\n",
       "    <tr>\n",
       "      <th>12</th>\n",
       "      <td>1</td>\n",
       "      <td>33794</td>\n",
       "      <td>4.0</td>\n",
       "      <td>1425942005</td>\n",
       "    </tr>\n",
       "    <tr>\n",
       "      <th>13</th>\n",
       "      <td>1</td>\n",
       "      <td>54503</td>\n",
       "      <td>3.5</td>\n",
       "      <td>1425941313</td>\n",
       "    </tr>\n",
       "    <tr>\n",
       "      <th>14</th>\n",
       "      <td>1</td>\n",
       "      <td>58559</td>\n",
       "      <td>4.0</td>\n",
       "      <td>1425942007</td>\n",
       "    </tr>\n",
       "    <tr>\n",
       "      <th>15</th>\n",
       "      <td>1</td>\n",
       "      <td>59315</td>\n",
       "      <td>5.0</td>\n",
       "      <td>1425941502</td>\n",
       "    </tr>\n",
       "    <tr>\n",
       "      <th>16</th>\n",
       "      <td>1</td>\n",
       "      <td>68358</td>\n",
       "      <td>5.0</td>\n",
       "      <td>1425941464</td>\n",
       "    </tr>\n",
       "    <tr>\n",
       "      <th>17</th>\n",
       "      <td>1</td>\n",
       "      <td>69844</td>\n",
       "      <td>5.0</td>\n",
       "      <td>1425942139</td>\n",
       "    </tr>\n",
       "    <tr>\n",
       "      <th>18</th>\n",
       "      <td>1</td>\n",
       "      <td>73017</td>\n",
       "      <td>5.0</td>\n",
       "      <td>1425942699</td>\n",
       "    </tr>\n",
       "    <tr>\n",
       "      <th>19</th>\n",
       "      <td>1</td>\n",
       "      <td>81834</td>\n",
       "      <td>5.0</td>\n",
       "      <td>1425942133</td>\n",
       "    </tr>\n",
       "    <tr>\n",
       "      <th>20</th>\n",
       "      <td>1</td>\n",
       "      <td>91500</td>\n",
       "      <td>2.5</td>\n",
       "      <td>1425942647</td>\n",
       "    </tr>\n",
       "    <tr>\n",
       "      <th>21</th>\n",
       "      <td>1</td>\n",
       "      <td>91542</td>\n",
       "      <td>5.0</td>\n",
       "      <td>1425942618</td>\n",
       "    </tr>\n",
       "    <tr>\n",
       "      <th>22</th>\n",
       "      <td>1</td>\n",
       "      <td>92439</td>\n",
       "      <td>5.0</td>\n",
       "      <td>1425941424</td>\n",
       "    </tr>\n",
       "    <tr>\n",
       "      <th>23</th>\n",
       "      <td>1</td>\n",
       "      <td>96821</td>\n",
       "      <td>5.0</td>\n",
       "      <td>1425941382</td>\n",
       "    </tr>\n",
       "    <tr>\n",
       "      <th>24</th>\n",
       "      <td>1</td>\n",
       "      <td>98809</td>\n",
       "      <td>0.5</td>\n",
       "      <td>1425942640</td>\n",
       "    </tr>\n",
       "    <tr>\n",
       "      <th>25</th>\n",
       "      <td>1</td>\n",
       "      <td>99114</td>\n",
       "      <td>4.0</td>\n",
       "      <td>1425941667</td>\n",
       "    </tr>\n",
       "    <tr>\n",
       "      <th>26</th>\n",
       "      <td>1</td>\n",
       "      <td>112552</td>\n",
       "      <td>5.0</td>\n",
       "      <td>1425941336</td>\n",
       "    </tr>\n",
       "  </tbody>\n",
       "</table>\n",
       "</div>"
      ],
      "text/plain": [
       "    userId  movieId  rating   timestamp\n",
       "0        1      110     1.0  1425941529\n",
       "1        1      147     4.5  1425942435\n",
       "2        1      858     5.0  1425941523\n",
       "3        1     1221     5.0  1425941546\n",
       "4        1     1246     5.0  1425941556\n",
       "5        1     1968     4.0  1425942148\n",
       "6        1     2762     4.5  1425941300\n",
       "7        1     2918     5.0  1425941593\n",
       "8        1     2959     4.0  1425941601\n",
       "9        1     4226     4.0  1425942228\n",
       "10       1     4878     5.0  1425941434\n",
       "11       1     5577     5.0  1425941397\n",
       "12       1    33794     4.0  1425942005\n",
       "13       1    54503     3.5  1425941313\n",
       "14       1    58559     4.0  1425942007\n",
       "15       1    59315     5.0  1425941502\n",
       "16       1    68358     5.0  1425941464\n",
       "17       1    69844     5.0  1425942139\n",
       "18       1    73017     5.0  1425942699\n",
       "19       1    81834     5.0  1425942133\n",
       "20       1    91500     2.5  1425942647\n",
       "21       1    91542     5.0  1425942618\n",
       "22       1    92439     5.0  1425941424\n",
       "23       1    96821     5.0  1425941382\n",
       "24       1    98809     0.5  1425942640\n",
       "25       1    99114     4.0  1425941667\n",
       "26       1   112552     5.0  1425941336"
      ]
     },
     "execution_count": 283,
     "metadata": {},
     "output_type": "execute_result"
    }
   ],
   "source": [
    "ground_truth = ratings_raw[ratings_raw[\"userId\"] == target_user_id]\n",
    "ground_truth"
   ]
  },
  {
   "cell_type": "code",
   "execution_count": 291,
   "id": "195223cf",
   "metadata": {},
   "outputs": [
    {
     "data": {
      "text/plain": [
       "array([[65]], dtype=int64)"
      ]
     },
     "execution_count": 291,
     "metadata": {},
     "output_type": "execute_result"
    }
   ],
   "source": [
    "ind = np.argwhere(recom_np == 68358)\n",
    "ind"
   ]
  },
  {
   "cell_type": "code",
   "execution_count": 3,
   "id": "2111390d",
   "metadata": {},
   "outputs": [],
   "source": [
    "credits_raw =  pd.read_csv(\"../dataset/credits_raw.csv\")"
   ]
  },
  {
   "cell_type": "code",
   "execution_count": 4,
   "id": "6bdde18e",
   "metadata": {
    "scrolled": false
   },
   "outputs": [
    {
     "data": {
      "text/html": [
       "<div>\n",
       "<style scoped>\n",
       "    .dataframe tbody tr th:only-of-type {\n",
       "        vertical-align: middle;\n",
       "    }\n",
       "\n",
       "    .dataframe tbody tr th {\n",
       "        vertical-align: top;\n",
       "    }\n",
       "\n",
       "    .dataframe thead th {\n",
       "        text-align: right;\n",
       "    }\n",
       "</style>\n",
       "<table border=\"1\" class=\"dataframe\">\n",
       "  <thead>\n",
       "    <tr style=\"text-align: right;\">\n",
       "      <th></th>\n",
       "      <th>cast</th>\n",
       "      <th>crew</th>\n",
       "      <th>id</th>\n",
       "    </tr>\n",
       "  </thead>\n",
       "  <tbody>\n",
       "    <tr>\n",
       "      <th>0</th>\n",
       "      <td>[{'cast_id': 14, 'character': 'Woody (voice)',...</td>\n",
       "      <td>[{'credit_id': '52fe4284c3a36847f8024f49', 'de...</td>\n",
       "      <td>862</td>\n",
       "    </tr>\n",
       "    <tr>\n",
       "      <th>1</th>\n",
       "      <td>[{'cast_id': 1, 'character': 'Alan Parrish', '...</td>\n",
       "      <td>[{'credit_id': '52fe44bfc3a36847f80a7cd1', 'de...</td>\n",
       "      <td>8844</td>\n",
       "    </tr>\n",
       "    <tr>\n",
       "      <th>2</th>\n",
       "      <td>[{'cast_id': 2, 'character': 'Max Goldman', 'c...</td>\n",
       "      <td>[{'credit_id': '52fe466a9251416c75077a89', 'de...</td>\n",
       "      <td>15602</td>\n",
       "    </tr>\n",
       "    <tr>\n",
       "      <th>3</th>\n",
       "      <td>[{'cast_id': 1, 'character': \"Savannah 'Vannah...</td>\n",
       "      <td>[{'credit_id': '52fe44779251416c91011acb', 'de...</td>\n",
       "      <td>31357</td>\n",
       "    </tr>\n",
       "    <tr>\n",
       "      <th>4</th>\n",
       "      <td>[{'cast_id': 1, 'character': 'George Banks', '...</td>\n",
       "      <td>[{'credit_id': '52fe44959251416c75039ed7', 'de...</td>\n",
       "      <td>11862</td>\n",
       "    </tr>\n",
       "    <tr>\n",
       "      <th>...</th>\n",
       "      <td>...</td>\n",
       "      <td>...</td>\n",
       "      <td>...</td>\n",
       "    </tr>\n",
       "    <tr>\n",
       "      <th>45471</th>\n",
       "      <td>[{'cast_id': 0, 'character': '', 'credit_id': ...</td>\n",
       "      <td>[{'credit_id': '5894a97d925141426c00818c', 'de...</td>\n",
       "      <td>439050</td>\n",
       "    </tr>\n",
       "    <tr>\n",
       "      <th>45472</th>\n",
       "      <td>[{'cast_id': 1002, 'character': 'Sister Angela...</td>\n",
       "      <td>[{'credit_id': '52fe4af1c3a36847f81e9b15', 'de...</td>\n",
       "      <td>111109</td>\n",
       "    </tr>\n",
       "    <tr>\n",
       "      <th>45473</th>\n",
       "      <td>[{'cast_id': 6, 'character': 'Emily Shaw', 'cr...</td>\n",
       "      <td>[{'credit_id': '52fe4776c3a368484e0c8387', 'de...</td>\n",
       "      <td>67758</td>\n",
       "    </tr>\n",
       "    <tr>\n",
       "      <th>45474</th>\n",
       "      <td>[{'cast_id': 2, 'character': '', 'credit_id': ...</td>\n",
       "      <td>[{'credit_id': '533bccebc3a36844cf0011a7', 'de...</td>\n",
       "      <td>227506</td>\n",
       "    </tr>\n",
       "    <tr>\n",
       "      <th>45475</th>\n",
       "      <td>[]</td>\n",
       "      <td>[{'credit_id': '593e676c92514105b702e68e', 'de...</td>\n",
       "      <td>461257</td>\n",
       "    </tr>\n",
       "  </tbody>\n",
       "</table>\n",
       "<p>45476 rows × 3 columns</p>\n",
       "</div>"
      ],
      "text/plain": [
       "                                                    cast  \\\n",
       "0      [{'cast_id': 14, 'character': 'Woody (voice)',...   \n",
       "1      [{'cast_id': 1, 'character': 'Alan Parrish', '...   \n",
       "2      [{'cast_id': 2, 'character': 'Max Goldman', 'c...   \n",
       "3      [{'cast_id': 1, 'character': \"Savannah 'Vannah...   \n",
       "4      [{'cast_id': 1, 'character': 'George Banks', '...   \n",
       "...                                                  ...   \n",
       "45471  [{'cast_id': 0, 'character': '', 'credit_id': ...   \n",
       "45472  [{'cast_id': 1002, 'character': 'Sister Angela...   \n",
       "45473  [{'cast_id': 6, 'character': 'Emily Shaw', 'cr...   \n",
       "45474  [{'cast_id': 2, 'character': '', 'credit_id': ...   \n",
       "45475                                                 []   \n",
       "\n",
       "                                                    crew      id  \n",
       "0      [{'credit_id': '52fe4284c3a36847f8024f49', 'de...     862  \n",
       "1      [{'credit_id': '52fe44bfc3a36847f80a7cd1', 'de...    8844  \n",
       "2      [{'credit_id': '52fe466a9251416c75077a89', 'de...   15602  \n",
       "3      [{'credit_id': '52fe44779251416c91011acb', 'de...   31357  \n",
       "4      [{'credit_id': '52fe44959251416c75039ed7', 'de...   11862  \n",
       "...                                                  ...     ...  \n",
       "45471  [{'credit_id': '5894a97d925141426c00818c', 'de...  439050  \n",
       "45472  [{'credit_id': '52fe4af1c3a36847f81e9b15', 'de...  111109  \n",
       "45473  [{'credit_id': '52fe4776c3a368484e0c8387', 'de...   67758  \n",
       "45474  [{'credit_id': '533bccebc3a36844cf0011a7', 'de...  227506  \n",
       "45475  [{'credit_id': '593e676c92514105b702e68e', 'de...  461257  \n",
       "\n",
       "[45476 rows x 3 columns]"
      ]
     },
     "execution_count": 4,
     "metadata": {},
     "output_type": "execute_result"
    }
   ],
   "source": [
    "credits_raw"
   ]
  },
  {
   "cell_type": "code",
   "execution_count": 8,
   "id": "e65d6d07",
   "metadata": {},
   "outputs": [
    {
     "data": {
      "text/plain": [
       "\"[{'cast_id': 14, 'character': 'Woody (voice)', 'credit_id': '52fe4284c3a36847f8024f95', 'gender': 2, 'id': 31, 'name': 'Tom Hanks', 'order': 0, 'profile_path': '/pQFoyx7rp09CJTAb932F2g8Nlho.jpg'}, {'cast_id': 15, 'character': 'Buzz Lightyear (voice)', 'credit_id': '52fe4284c3a36847f8024f99', 'gender': 2, 'id': 12898, 'name': 'Tim Allen', 'order': 1, 'profile_path': '/uX2xVf6pMmPepxnvFWyBtjexzgY.jpg'}, {'cast_id': 16, 'character': 'Mr. Potato Head (voice)', 'credit_id': '52fe4284c3a36847f8024f9d', 'gender': 2, 'id': 7167, 'name': 'Don Rickles', 'order': 2, 'profile_path': '/h5BcaDMPRVLHLDzbQavec4xfSdt.jpg'}, {'cast_id': 17, 'character': 'Slinky Dog (voice)', 'credit_id': '52fe4284c3a36847f8024fa1', 'gender': 2, 'id': 12899, 'name': 'Jim Varney', 'order': 3, 'profile_path': '/eIo2jVVXYgjDtaHoF19Ll9vtW7h.jpg'}, {'cast_id': 18, 'character': 'Rex (voice)', 'credit_id': '52fe4284c3a36847f8024fa5', 'gender': 2, 'id': 12900, 'name': 'Wallace Shawn', 'order': 4, 'profile_path': '/oGE6JqPP2xH4tNORKNqxbNPYi7u.jpg'}, {'cast_id': 19, 'character': 'Hamm (voice)', 'credit_id': '52fe4284c3a36847f8024fa9', 'gender': 2, 'id': 7907, 'name': 'John Ratzenberger', 'order': 5, 'profile_path': '/yGechiKWL6TJDfVE2KPSJYqdMsY.jpg'}, {'cast_id': 20, 'character': 'Bo Peep (voice)', 'credit_id': '52fe4284c3a36847f8024fad', 'gender': 1, 'id': 8873, 'name': 'Annie Potts', 'order': 6, 'profile_path': '/eryXT84RL41jHSJcMy4kS3u9y6w.jpg'}, {'cast_id': 26, 'character': 'Andy (voice)', 'credit_id': '52fe4284c3a36847f8024fc1', 'gender': 0, 'id': 1116442, 'name': 'John Morris', 'order': 7, 'profile_path': '/vYGyvK4LzeaUCoNSHtsuqJUY15M.jpg'}, {'cast_id': 22, 'character': 'Sid (voice)', 'credit_id': '52fe4284c3a36847f8024fb1', 'gender': 2, 'id': 12901, 'name': 'Erik von Detten', 'order': 8, 'profile_path': '/twnF1ZaJ1FUNUuo6xLXwcxjayBE.jpg'}, {'cast_id': 23, 'character': 'Mrs. Davis (voice)', 'credit_id': '52fe4284c3a36847f8024fb5', 'gender': 1, 'id': 12133, 'name': 'Laurie Metcalf', 'order': 9, 'profile_path': '/unMMIT60eoBM2sN2nyR7EZ2BvvD.jpg'}, {'cast_id': 24, 'character': 'Sergeant (voice)', 'credit_id': '52fe4284c3a36847f8024fb9', 'gender': 2, 'id': 8655, 'name': 'R. Lee Ermey', 'order': 10, 'profile_path': '/r8GBqFBjypLUP9VVqDqfZ7wYbSs.jpg'}, {'cast_id': 25, 'character': 'Hannah (voice)', 'credit_id': '52fe4284c3a36847f8024fbd', 'gender': 1, 'id': 12903, 'name': 'Sarah Freeman', 'order': 11, 'profile_path': None}, {'cast_id': 27, 'character': 'TV Announcer (voice)', 'credit_id': '52fe4284c3a36847f8024fc5', 'gender': 2, 'id': 37221, 'name': 'Penn Jillette', 'order': 12, 'profile_path': '/zmAaXUdx12NRsssgHbk1T31j2x9.jpg'}]\""
      ]
     },
     "execution_count": 8,
     "metadata": {},
     "output_type": "execute_result"
    }
   ],
   "source": [
    "credits_raw[\"cast\"][0]"
   ]
  },
  {
   "cell_type": "code",
   "execution_count": null,
   "id": "7f4126c5",
   "metadata": {},
   "outputs": [],
   "source": []
  }
 ],
 "metadata": {
  "kernelspec": {
   "display_name": "Python 3 (ipykernel)",
   "language": "python",
   "name": "python3"
  },
  "language_info": {
   "codemirror_mode": {
    "name": "ipython",
    "version": 3
   },
   "file_extension": ".py",
   "mimetype": "text/x-python",
   "name": "python",
   "nbconvert_exporter": "python",
   "pygments_lexer": "ipython3",
   "version": "3.9.6"
  }
 },
 "nbformat": 4,
 "nbformat_minor": 5
}
